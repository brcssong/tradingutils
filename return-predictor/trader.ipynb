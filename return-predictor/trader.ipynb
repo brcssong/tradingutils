{
 "cells": [
  {
   "cell_type": "code",
   "execution_count": null,
   "id": "7a344367",
   "metadata": {},
   "outputs": [],
   "source": [
    "%pip install -r requirements.txt -q\n",
    "%pip install --upgrade jupyter ipywidgets\n",
    "!conda install -c conda-forge ipywidgets -y"
   ]
  },
  {
   "cell_type": "code",
   "execution_count": null,
   "id": "6fc79f1e",
   "metadata": {},
   "outputs": [],
   "source": [
    "%pip install --upgrade yfinance"
   ]
  },
  {
   "cell_type": "markdown",
   "id": "33ed88b6",
   "metadata": {},
   "source": [
    "Begin pipeline execution"
   ]
  },
  {
   "cell_type": "code",
   "execution_count": 1,
   "id": "e474f756",
   "metadata": {},
   "outputs": [
    {
     "name": "stdout",
     "output_type": "stream",
     "text": [
      "Kicking off! \n",
      "Step 1: Getting tickers.\n",
      "Sleeping for a minute to skirt rate limits...\n",
      "Tickers are ['MGNI', 'MCHP', 'BFST', 'SIBN', 'NRIX', 'HSTM', 'AMGN', 'BWB', 'SHEN', 'ATLO', 'ACHC', 'AVAV', 'DOCU', 'STRT', 'BMRN', 'TRIP', 'ROAD', 'UPBD', 'ATEX', 'OCUL', 'ANAB', 'CASS', 'TFSL', 'QCRH', 'LKQ', 'GWRS', 'TCBI', 'ASMB', 'OSPN', 'AMZN', 'LOVE', 'NWBI', 'VECO', 'LITE', 'MGEE', 'ZD', 'PMTS', 'TRS', 'CCNE', 'CZFS', 'CAC', 'MRTN', 'IAC', 'TRST', 'HTBK', 'ESOA', 'AROW', 'TTEK', 'VRDN', 'DOX', 'TILE', 'CCD', 'NVDA', 'FORR', 'DMLP', 'LECO', 'AEIS', 'PI', 'SCVL', 'OPOF', 'EML', 'LASR', 'BAND', 'MMSI', 'FNLC', 'STOK', 'NFBK', 'BOOM', 'PEBO', 'LPLA', 'PFIS', 'URGN', 'PATK', 'NKTR', 'WHF']\n",
      "Step 2: Now getting data, from 2025-07-14 to 2025-07-19\n"
     ]
    },
    {
     "name": "stderr",
     "output_type": "stream",
     "text": [
      "Device set to use mps:0\n"
     ]
    },
    {
     "name": "stdout",
     "output_type": "stream",
     "text": [
      "Adding values from date 2025-07-14...\n"
     ]
    },
    {
     "name": "stderr",
     "output_type": "stream",
     "text": [
      "[*********************100%***********************]  76 of 76 completed\n",
      "\n",
      "76 Failed downloads:\n",
      "['TILE', 'MCHP', 'TRST', 'AMZN', 'AVAV', 'ESOA', 'BWB', 'CCD', 'NKTR', 'VECO', 'URGN', 'MRTN', 'TTEK', 'TCBI', 'HTBK', 'BOOM', 'LKQ', 'LOVE', 'EML', 'PATK', 'HSTM', 'MGNI', 'NWBI', 'AMGN', 'PMTS', 'ANAB', 'WHF', 'ZD', 'SIBN', 'PI', 'TRIP', 'CASS', 'TRS', 'DMLP', 'PFIS', 'DOCU', 'DOX', 'IAC', 'SPY', 'ATLO', 'ROAD', 'NRIX', 'OCUL', 'ATEX', 'PEBO', 'LITE', 'FORR', 'TFSL', 'LECO', 'CCNE', 'CAC', 'MGEE', 'STRT', 'QCRH', 'GWRS', 'LPLA', 'MMSI', 'NFBK', 'NVDA', 'BAND', 'SCVL', 'CZFS', 'AROW', 'BMRN', 'UPBD', 'VRDN', 'OPOF', 'LASR', 'AEIS', 'FNLC', 'SHEN', 'ACHC', 'BFST', 'OSPN', 'ASMB', 'STOK']: ValueError('Setting period, start and end is nonsense. Set maximum 2 of them.')\n"
     ]
    },
    {
     "name": "stdout",
     "output_type": "stream",
     "text": [
      "Error downloading data: No data retrieved\n",
      "Added values from date 2025-07-14. DataFrame is now of length 0.\n",
      "Adding values from date 2025-07-15...\n"
     ]
    },
    {
     "name": "stderr",
     "output_type": "stream",
     "text": [
      "[*********************100%***********************]  76 of 76 completed\n",
      "\n",
      "76 Failed downloads:\n",
      "['MCHP', 'TILE', 'AMZN', 'TRST', 'CCD', 'BWB', 'VECO', 'MRTN', 'TCBI', 'BOOM', 'AVAV', 'ESOA', 'TTEK', 'NKTR', 'URGN', 'HTBK', 'WHF', 'HSTM', 'NWBI', 'LKQ', 'MGEE', 'PATK', 'CASS', 'PMTS', 'AMGN', 'MGNI', 'EML', 'IAC', 'SIBN', 'PI', 'ATEX', 'NVDA', 'LOVE', 'OPOF', 'TRS', 'PFIS', 'OSPN', 'ZD', 'DOX', 'ATLO', 'ROAD', 'TRIP', 'NRIX', 'OCUL', 'PEBO', 'TFSL', 'LITE', 'LECO', 'FORR', 'CCNE', 'STRT', 'CAC', 'SPY', 'QCRH', 'GWRS', 'LPLA', 'MMSI', 'NFBK', 'BAND', 'STOK', 'SCVL', 'AROW', 'CZFS', 'BMRN', 'VRDN', 'UPBD', 'BFST', 'LASR', 'AEIS', 'FNLC', 'DMLP', 'SHEN', 'ACHC', 'ANAB', 'ASMB', 'DOCU']: ValueError('Setting period, start and end is nonsense. Set maximum 2 of them.')\n"
     ]
    },
    {
     "name": "stdout",
     "output_type": "stream",
     "text": [
      "Error downloading data: No data retrieved\n",
      "Added values from date 2025-07-15. DataFrame is now of length 0.\n",
      "Adding values from date 2025-07-16...\n"
     ]
    },
    {
     "name": "stderr",
     "output_type": "stream",
     "text": [
      "[*********************100%***********************]  76 of 76 completed\n",
      "\n",
      "76 Failed downloads:\n",
      "['TILE', 'TRST', 'MCHP', 'AMZN', 'CCD', 'BWB', 'VECO', 'MRTN', 'TCBI', 'BOOM', 'AVAV', 'TTEK', 'ESOA', 'URGN', 'NKTR', 'HTBK', 'WHF', 'NWBI', 'CASS', 'PMTS', 'AMGN', 'PATK', 'HSTM', 'MGEE', 'LECO', 'STRT', 'IAC', 'STOK', 'SCVL', 'PI', 'SHEN', 'LOVE', 'EML', 'TRS', 'BFST', 'PFIS', 'ANAB', 'ZD', 'DOX', 'TRIP', 'ATLO', 'ROAD', 'NRIX', 'OCUL', 'PEBO', 'LITE', 'TFSL', 'MGNI', 'FORR', 'CCNE', 'CAC', 'LKQ', 'ATEX', 'QCRH', 'GWRS', 'LPLA', 'MMSI', 'BAND', 'NFBK', 'NVDA', 'SIBN', 'AROW', 'CZFS', 'BMRN', 'UPBD', 'OPOF', 'VRDN', 'LASR', 'AEIS', 'FNLC', 'DMLP', 'SPY', 'ACHC', 'OSPN', 'ASMB', 'DOCU']: ValueError('Setting period, start and end is nonsense. Set maximum 2 of them.')\n"
     ]
    },
    {
     "name": "stdout",
     "output_type": "stream",
     "text": [
      "Error downloading data: No data retrieved\n",
      "Added values from date 2025-07-16. DataFrame is now of length 0.\n",
      "Adding values from date 2025-07-17...\n"
     ]
    },
    {
     "name": "stderr",
     "output_type": "stream",
     "text": [
      "[*********************100%***********************]  76 of 76 completed\n",
      "\n",
      "76 Failed downloads:\n",
      "['MCHP', 'TRST', 'AMZN', 'TILE', 'CCD', 'BWB', 'VECO', 'MRTN', 'TCBI', 'BOOM', 'AVAV', 'ESOA', 'TTEK', 'NKTR', 'URGN', 'HTBK', 'NWBI', 'CASS', 'MGEE', 'MGNI', 'PFIS', 'WHF', 'HSTM', 'STRT', 'QCRH', 'LKQ', 'STOK', 'SIBN', 'IAC', 'PI', 'SPY', 'LOVE', 'TRS', 'BFST', 'AMGN', 'ANAB', 'ZD', 'DOX', 'TRIP', 'ATLO', 'ROAD', 'NRIX', 'OCUL', 'EML', 'PEBO', 'LITE', 'FORR', 'TFSL', 'LECO', 'CCNE', 'CAC', 'PATK', 'ATEX', 'GWRS', 'PMTS', 'LPLA', 'MMSI', 'NFBK', 'BAND', 'NVDA', 'SCVL', 'AROW', 'CZFS', 'BMRN', 'UPBD', 'VRDN', 'OPOF', 'AEIS', 'LASR', 'FNLC', 'DMLP', 'SHEN', 'ACHC', 'OSPN', 'ASMB', 'DOCU']: ValueError('Setting period, start and end is nonsense. Set maximum 2 of them.')\n"
     ]
    },
    {
     "name": "stdout",
     "output_type": "stream",
     "text": [
      "Error downloading data: No data retrieved\n",
      "Added values from date 2025-07-17. DataFrame is now of length 0.\n",
      "Adding values from date 2025-07-18...\n"
     ]
    },
    {
     "name": "stderr",
     "output_type": "stream",
     "text": [
      "[*********************100%***********************]  76 of 76 completed\n",
      "\n",
      "76 Failed downloads:\n",
      "['MCHP', 'TILE', 'TRST', 'AMZN', 'CCD', 'BWB', 'VECO', 'MRTN', 'TCBI', 'BOOM', 'AVAV', 'ESOA', 'TTEK', 'NKTR', 'URGN', 'HTBK', 'WHF', 'PATK', 'HSTM', 'CASS', 'AMGN', 'STOK', 'SPY', 'PMTS', 'MGNI', 'SIBN', 'IAC', 'LKQ', 'NRIX', 'PI', 'OCUL', 'TFSL', 'GWRS', 'BMRN', 'FNLC', 'DMLP', 'ANAB', 'ZD', 'DOX', 'TRIP', 'ROAD', 'ATLO', 'NWBI', 'PEBO', 'MGEE', 'FORR', 'LITE', 'LOVE', 'LECO', 'CCNE', 'CAC', 'STRT', 'ATEX', 'QCRH', 'EML', 'LPLA', 'MMSI', 'NFBK', 'BAND', 'NVDA', 'SCVL', 'AROW', 'CZFS', 'TRS', 'UPBD', 'VRDN', 'OPOF', 'LASR', 'AEIS', 'BFST', 'PFIS', 'SHEN', 'ACHC', 'OSPN', 'ASMB', 'DOCU']: ValueError('Setting period, start and end is nonsense. Set maximum 2 of them.')\n"
     ]
    },
    {
     "name": "stdout",
     "output_type": "stream",
     "text": [
      "Error downloading data: No data retrieved\n",
      "Added values from date 2025-07-18. DataFrame is now of length 0.\n",
      "Ingested data into DataFrame. Now performing full normalization.\n",
      "Adding validation values from date 2024-09-22...\n",
      "Adding validation values from date 2024-09-23...\n"
     ]
    },
    {
     "name": "stderr",
     "output_type": "stream",
     "text": [
      "[*********************100%***********************]  76 of 76 completed\n",
      "\n",
      "76 Failed downloads:\n",
      "['MCHP', 'TILE', 'TRST', 'AMZN', 'CCD', 'BWB', 'VECO', 'MRTN', 'TCBI', 'BOOM', 'ESOA', 'TTEK', 'AVAV', 'NKTR', 'URGN', 'HTBK', 'WHF', 'PATK', 'HSTM', 'MGNI', 'STOK', 'NWBI', 'CASS', 'MGEE', 'ZD', 'BFST', 'CAC', 'IAC', 'LASR', 'PI', 'SPY', 'LOVE', 'EML', 'TRS', 'PMTS', 'PFIS', 'ANAB', 'DOX', 'TRIP', 'ATLO', 'ROAD', 'NRIX', 'LKQ', 'OCUL', 'PEBO', 'LITE', 'FORR', 'TFSL', 'LECO', 'CCNE', 'AMGN', 'STRT', 'ATEX', 'GWRS', 'QCRH', 'LPLA', 'MMSI', 'NFBK', 'BAND', 'NVDA', 'SCVL', 'AROW', 'CZFS', 'BMRN', 'UPBD', 'VRDN', 'OPOF', 'FNLC', 'AEIS', 'DMLP', 'SHEN', 'ACHC', 'OSPN', 'SIBN', 'ASMB', 'DOCU']: ValueError('Setting period, start and end is nonsense. Set maximum 2 of them.')\n"
     ]
    },
    {
     "name": "stdout",
     "output_type": "stream",
     "text": [
      "Error downloading data: No data retrieved\n",
      "Adding validation values from date 2024-09-24...\n"
     ]
    },
    {
     "name": "stderr",
     "output_type": "stream",
     "text": [
      "[*********************100%***********************]  76 of 76 completed\n",
      "\n",
      "76 Failed downloads:\n",
      "['TILE', 'MCHP', 'TRST', 'AMZN', 'CCD', 'VECO', 'BWB', 'MRTN', 'TCBI', 'BOOM', 'AVAV', 'ESOA', 'TTEK', 'NKTR', 'URGN', 'HTBK', 'WHF', 'PATK', 'HSTM', 'NWBI', 'PMTS', 'PFIS', 'MGNI', 'TRIP', 'AMGN', 'LKQ', 'CZFS', 'STOK', 'AEIS', 'PI', 'DOCU', 'EML', 'LOVE', 'TRS', 'BFST', 'CASS', 'ANAB', 'ZD', 'DOX', 'ATLO', 'ROAD', 'MGEE', 'NRIX', 'OCUL', 'PEBO', 'LITE', 'TFSL', 'FORR', 'LECO', 'CCNE', 'STRT', 'CAC', 'ATEX', 'QCRH', 'GWRS', 'LPLA', 'MMSI', 'NFBK', 'BAND', 'NVDA', 'SCVL', 'IAC', 'AROW', 'BMRN', 'UPBD', 'VRDN', 'LASR', 'OPOF', 'SIBN', 'FNLC', 'DMLP', 'SHEN', 'ACHC', 'OSPN', 'ASMB', 'SPY']: ValueError('Setting period, start and end is nonsense. Set maximum 2 of them.')\n"
     ]
    },
    {
     "name": "stdout",
     "output_type": "stream",
     "text": [
      "Error downloading data: No data retrieved\n",
      "Adding validation values from date 2024-09-25...\n"
     ]
    },
    {
     "name": "stderr",
     "output_type": "stream",
     "text": [
      "[*********************100%***********************]  76 of 76 completed\n",
      "\n",
      "76 Failed downloads:\n",
      "['MCHP', 'TILE', 'TRST', 'CCD', 'AMZN', 'BWB', 'VECO', 'MRTN', 'TCBI', 'BOOM', 'AVAV', 'ESOA', 'TTEK', 'URGN', 'NKTR', 'HTBK', 'WHF', 'HSTM', 'PATK', 'MGEE', 'PMTS', 'AMGN', 'LOVE', 'MGNI', 'NWBI', 'ROAD', 'STOK', 'SIBN', 'IAC', 'PI', 'SPY', 'CASS', 'GWRS', 'TRS', 'BFST', 'PFIS', 'ANAB', 'ZD', 'DOX', 'TRIP', 'ATLO', 'LKQ', 'NRIX', 'OCUL', 'LITE', 'PEBO', 'FORR', 'TFSL', 'LECO', 'CCNE', 'CAC', 'STRT', 'ATEX', 'QCRH', 'EML', 'LPLA', 'MMSI', 'NFBK', 'BAND', 'NVDA', 'SCVL', 'AROW', 'CZFS', 'BMRN', 'UPBD', 'VRDN', 'OPOF', 'LASR', 'AEIS', 'FNLC', 'DMLP', 'SHEN', 'ACHC', 'OSPN', 'ASMB', 'DOCU']: ValueError('Setting period, start and end is nonsense. Set maximum 2 of them.')\n"
     ]
    },
    {
     "name": "stdout",
     "output_type": "stream",
     "text": [
      "Error downloading data: No data retrieved\n",
      "Adding validation values from date 2024-09-26...\n"
     ]
    },
    {
     "name": "stderr",
     "output_type": "stream",
     "text": [
      "[*********************100%***********************]  76 of 76 completed\n",
      "\n",
      "76 Failed downloads:\n",
      "['MCHP', 'CCD', 'TILE', 'TRST', 'AMZN', 'BWB', 'VECO', 'MRTN', 'BOOM', 'TCBI', 'AVAV', 'ESOA', 'TTEK', 'NKTR', 'URGN', 'HTBK', 'WHF', 'PATK', 'CASS', 'MGNI', 'SIBN', 'ATLO', 'TRS', 'PMTS', 'AMGN', 'OCUL', 'CAC', 'AROW', 'PI', 'NWBI', 'SPY', 'SHEN', 'EML', 'MGEE', 'BFST', 'PFIS', 'ANAB', 'ZD', 'TRIP', 'DOX', 'HSTM', 'ROAD', 'NRIX', 'LKQ', 'PEBO', 'LITE', 'FORR', 'TFSL', 'LECO', 'CCNE', 'STOK', 'STRT', 'ATEX', 'QCRH', 'GWRS', 'LPLA', 'MMSI', 'BAND', 'NFBK', 'SCVL', 'NVDA', 'IAC', 'CZFS', 'UPBD', 'BMRN', 'OPOF', 'VRDN', 'LASR', 'AEIS', 'FNLC', 'ACHC', 'DMLP', 'LOVE', 'OSPN', 'ASMB', 'DOCU']: ValueError('Setting period, start and end is nonsense. Set maximum 2 of them.')\n"
     ]
    },
    {
     "name": "stdout",
     "output_type": "stream",
     "text": [
      "Error downloading data: No data retrieved\n",
      "Adding validation values from date 2024-09-27...\n"
     ]
    },
    {
     "name": "stderr",
     "output_type": "stream",
     "text": [
      "[*********************100%***********************]  76 of 76 completed\n",
      "\n",
      "76 Failed downloads:\n",
      "['MCHP', 'TILE', 'TRST', 'AMZN', 'CCD', 'BWB', 'VECO', 'MRTN', 'TCBI', 'BOOM', 'AVAV', 'ESOA', 'TTEK', 'NKTR', 'URGN', 'WHF', 'PATK', 'HTBK', 'HSTM', 'MGNI', 'CASS', 'MGEE', 'IAC', 'LOVE', 'EML', 'ANAB', 'ZD', 'OCUL', 'LITE', 'PI', 'SPY', 'PMTS', 'STRT', 'AMGN', 'BFST', 'LKQ', 'MMSI', 'DOX', 'AROW', 'ATLO', 'TRIP', 'FNLC', 'AEIS', 'PEBO', 'NWBI', 'SIBN', 'FORR', 'CCNE', 'LECO', 'TFSL', 'CAC', 'TRS', 'ATEX', 'QCRH', 'GWRS', 'LPLA', 'PFIS', 'NFBK', 'BAND', 'NVDA', 'SCVL', 'STOK', 'CZFS', 'BMRN', 'UPBD', 'VRDN', 'OPOF', 'ROAD', 'LASR', 'NRIX', 'DMLP', 'SHEN', 'ACHC', 'OSPN', 'ASMB', 'DOCU']: ValueError('Setting period, start and end is nonsense. Set maximum 2 of them.')\n"
     ]
    },
    {
     "name": "stdout",
     "output_type": "stream",
     "text": [
      "Error downloading data: No data retrieved\n",
      "Adding validation values from date 2024-09-28...\n",
      "Adding validation values from date 2024-09-29...\n",
      "Adding validation values from date 2024-09-30...\n"
     ]
    },
    {
     "name": "stderr",
     "output_type": "stream",
     "text": [
      "[*********************100%***********************]  76 of 76 completed\n",
      "\n",
      "76 Failed downloads:\n",
      "['MCHP', 'TILE', 'TRST', 'AMZN', 'CCD', 'BWB', 'MRTN', 'TCBI', 'BOOM', 'AVAV', 'ESOA', 'VECO', 'TTEK', 'NKTR', 'URGN', 'HTBK', 'WHF', 'PATK', 'MGNI', 'HSTM', 'NWBI', 'IAC', 'BFST', 'CASS', 'PMTS', 'STOK', 'AMGN', 'LKQ', 'SIBN', 'CAC', 'LPLA', 'NFBK', 'ACHC', 'TRS', 'MGEE', 'PFIS', 'ZD', 'ANAB', 'DOX', 'TRIP', 'ATLO', 'ROAD', 'NRIX', 'OCUL', 'PEBO', 'LITE', 'FORR', 'TFSL', 'LECO', 'CCNE', 'STRT', 'PI', 'ATEX', 'QCRH', 'GWRS', 'SPY', 'MMSI', 'LOVE', 'BAND', 'NVDA', 'SCVL', 'AROW', 'CZFS', 'BMRN', 'UPBD', 'VRDN', 'OPOF', 'LASR', 'AEIS', 'FNLC', 'SHEN', 'DMLP', 'OSPN', 'ASMB', 'DOCU', 'EML']: ValueError('Setting period, start and end is nonsense. Set maximum 2 of them.')\n"
     ]
    },
    {
     "name": "stdout",
     "output_type": "stream",
     "text": [
      "Error downloading data: No data retrieved\n",
      "Adding validation values from date 2024-10-01...\n"
     ]
    },
    {
     "name": "stderr",
     "output_type": "stream",
     "text": [
      "[*********************100%***********************]  76 of 76 completed\n",
      "\n",
      "76 Failed downloads:\n",
      "['MCHP', 'TRST', 'TILE', 'AMZN', 'CCD', 'BWB', 'VECO', 'MRTN', 'TCBI', 'BOOM', 'AVAV', 'ESOA', 'TTEK', 'NKTR', 'URGN', 'HTBK', 'WHF', 'PATK', 'HSTM', 'AMGN', 'MGEE', 'PMTS', 'CASS', 'MGNI', 'LKQ', 'PI', 'STOK', 'IAC', 'SIBN', 'NWBI', 'SPY', 'AROW', 'VRDN', 'DMLP', 'BFST', 'PFIS', 'ANAB', 'ZD', 'DOX', 'TRIP', 'ATLO', 'ROAD', 'NRIX', 'OCUL', 'PEBO', 'LITE', 'FORR', 'TFSL', 'LECO', 'CCNE', 'CAC', 'STRT', 'QCRH', 'ATEX', 'GWRS', 'LPLA', 'MMSI', 'NFBK', 'NVDA', 'BAND', 'SCVL', 'CZFS', 'LOVE', 'BMRN', 'UPBD', 'EML', 'OPOF', 'LASR', 'AEIS', 'FNLC', 'SHEN', 'ACHC', 'OSPN', 'TRS', 'ASMB', 'DOCU']: ValueError('Setting period, start and end is nonsense. Set maximum 2 of them.')\n"
     ]
    },
    {
     "name": "stdout",
     "output_type": "stream",
     "text": [
      "Error downloading data: No data retrieved\n",
      "Adding validation values from date 2024-10-02...\n"
     ]
    },
    {
     "name": "stderr",
     "output_type": "stream",
     "text": [
      "[*********************100%***********************]  76 of 76 completed\n",
      "\n",
      "76 Failed downloads:\n",
      "['MCHP', 'TILE', 'TRST', 'AMZN', 'CCD', 'BWB', 'VECO', 'MRTN', 'TCBI', 'BOOM', 'AVAV', 'ESOA', 'NKTR', 'TTEK', 'URGN', 'HTBK', 'WHF', 'PATK', 'HSTM', 'MGNI', 'STOK', 'NWBI', 'BFST', 'MGEE', 'TRIP', 'LKQ', 'AMGN', 'IAC', 'SIBN', 'STRT', 'SCVL', 'SPY', 'EML', 'SHEN', 'PFIS', 'CASS', 'ANAB', 'ZD', 'PMTS', 'DOX', 'ATLO', 'ROAD', 'NRIX', 'OCUL', 'PEBO', 'LITE', 'FORR', 'TFSL', 'CCNE', 'LECO', 'CAC', 'PI', 'ATEX', 'QCRH', 'GWRS', 'LPLA', 'MMSI', 'NFBK', 'BAND', 'NVDA', 'LOVE', 'AROW', 'CZFS', 'BMRN', 'OPOF', 'UPBD', 'VRDN', 'LASR', 'AEIS', 'FNLC', 'TRS', 'DMLP', 'ACHC', 'OSPN', 'ASMB', 'DOCU']: ValueError('Setting period, start and end is nonsense. Set maximum 2 of them.')\n"
     ]
    },
    {
     "name": "stdout",
     "output_type": "stream",
     "text": [
      "Error downloading data: No data retrieved\n",
      "Adding validation values from date 2024-10-03...\n"
     ]
    },
    {
     "name": "stderr",
     "output_type": "stream",
     "text": [
      "[*********************100%***********************]  76 of 76 completed\n",
      "\n",
      "76 Failed downloads:\n",
      "['MCHP', 'TILE', 'TRST', 'AMZN', 'CCD', 'BWB', 'VECO', 'MRTN', 'TCBI', 'BOOM', 'AVAV', 'TTEK', 'ESOA', 'NKTR', 'URGN', 'HTBK', 'WHF', 'NWBI', 'HSTM', 'MGNI', 'PI', 'CASS', 'MGEE', 'PMTS', 'SPY', 'ROAD', 'STOK', 'UPBD', 'VRDN', 'LASR', 'PATK', 'LOVE', 'EML', 'TRS', 'ANAB', 'BFST', 'PFIS', 'ZD', 'DOX', 'TRIP', 'NRIX', 'ATLO', 'LKQ', 'OCUL', 'LITE', 'PEBO', 'FORR', 'TFSL', 'CCNE', 'LECO', 'CAC', 'STRT', 'ATEX', 'GWRS', 'QCRH', 'MMSI', 'LPLA', 'BAND', 'NVDA', 'NFBK', 'SCVL', 'AROW', 'CZFS', 'BMRN', 'IAC', 'SIBN', 'OPOF', 'AMGN', 'AEIS', 'DMLP', 'FNLC', 'SHEN', 'ACHC', 'OSPN', 'ASMB', 'DOCU']: ValueError('Setting period, start and end is nonsense. Set maximum 2 of them.')\n"
     ]
    },
    {
     "name": "stdout",
     "output_type": "stream",
     "text": [
      "Error downloading data: No data retrieved\n",
      "Adding validation values from date 2024-10-04...\n"
     ]
    },
    {
     "name": "stderr",
     "output_type": "stream",
     "text": [
      "[*********************100%***********************]  76 of 76 completed\n",
      "\n",
      "76 Failed downloads:\n",
      "['MCHP', 'TRST', 'TILE', 'AMZN', 'CCD', 'BWB', 'VECO', 'MRTN', 'TCBI', 'BOOM', 'AVAV', 'ESOA', 'TTEK', 'NKTR', 'URGN', 'HTBK', 'WHF', 'PATK', 'HSTM', 'LKQ', 'AMGN', 'NWBI', 'CASS', 'MGEE', 'PMTS', 'MGNI', 'STOK', 'IAC', 'SIBN', 'PI', 'SPY', 'PEBO', 'EML', 'MMSI', 'BFST', 'PFIS', 'ANAB', 'ZD', 'DOX', 'TRIP', 'ATLO', 'ROAD', 'NRIX', 'OCUL', 'LITE', 'FORR', 'TFSL', 'LECO', 'CCNE', 'LOVE', 'CAC', 'STRT', 'ATEX', 'QCRH', 'GWRS', 'TRS', 'LPLA', 'NFBK', 'BAND', 'SCVL', 'NVDA', 'AROW', 'CZFS', 'BMRN', 'UPBD', 'VRDN', 'OPOF', 'LASR', 'AEIS', 'FNLC', 'SHEN', 'DMLP', 'OSPN', 'ACHC', 'ASMB', 'DOCU']: ValueError('Setting period, start and end is nonsense. Set maximum 2 of them.')\n"
     ]
    },
    {
     "name": "stdout",
     "output_type": "stream",
     "text": [
      "Error downloading data: No data retrieved\n",
      "Adding validation values from date 2024-10-05...\n",
      "Adding validation values from date 2024-10-06...\n",
      "Step 3: Now training model!\n",
      "Activated MPS for training, because you're on a Mac.\n"
     ]
    },
    {
     "ename": "TypeError",
     "evalue": "can't convert np.ndarray of type numpy.object_. The only supported types are: float64, float32, float16, complex64, complex128, int64, int32, int16, int8, uint64, uint32, uint16, uint8, and bool.",
     "output_type": "error",
     "traceback": [
      "\u001b[0;31m---------------------------------------------------------------------------\u001b[0m",
      "\u001b[0;31mTypeError\u001b[0m                                 Traceback (most recent call last)",
      "Cell \u001b[0;32mIn[1], line 3\u001b[0m\n\u001b[1;32m      1\u001b[0m \u001b[38;5;28;01mfrom\u001b[39;00m\u001b[38;5;250m \u001b[39m\u001b[38;5;21;01mmodules\u001b[39;00m\u001b[38;5;21;01m.\u001b[39;00m\u001b[38;5;21;01mpipeline_module\u001b[39;00m\u001b[38;5;250m \u001b[39m\u001b[38;5;28;01mimport\u001b[39;00m Pipeline\n\u001b[1;32m      2\u001b[0m pipeline \u001b[38;5;241m=\u001b[39m Pipeline(\u001b[38;5;124m\"\u001b[39m\u001b[38;5;124m2025-07-14\u001b[39m\u001b[38;5;124m\"\u001b[39m, \u001b[38;5;124m\"\u001b[39m\u001b[38;5;124m2025-07-18\u001b[39m\u001b[38;5;124m\"\u001b[39m)\n\u001b[0;32m----> 3\u001b[0m \u001b[43mpipeline\u001b[49m\u001b[38;5;241;43m.\u001b[39;49m\u001b[43mexecute\u001b[49m\u001b[43m(\u001b[49m\u001b[43m)\u001b[49m\n",
      "File \u001b[0;32m~/Desktop/tradingexperimentation/return-predictor/modules/pipeline_module.py:96\u001b[0m, in \u001b[0;36mPipeline.execute\u001b[0;34m(self)\u001b[0m\n\u001b[1;32m     94\u001b[0m \u001b[38;5;28mprint\u001b[39m(\u001b[38;5;124mf\u001b[39m\u001b[38;5;124m\"\u001b[39m\u001b[38;5;124mStep 3: Now training model!\u001b[39m\u001b[38;5;124m\"\u001b[39m)\n\u001b[1;32m     95\u001b[0m model \u001b[38;5;241m=\u001b[39m Model()\n\u001b[0;32m---> 96\u001b[0m \u001b[43mmodel\u001b[49m\u001b[38;5;241;43m.\u001b[39;49m\u001b[43mtrain\u001b[49m\u001b[43m(\u001b[49m\u001b[43mdf\u001b[49m\u001b[43m,\u001b[49m\u001b[43m \u001b[49m\u001b[43mdf_valid\u001b[49m\u001b[43m)\u001b[49m\n",
      "File \u001b[0;32m~/Desktop/tradingexperimentation/return-predictor/modules/model_module.py:104\u001b[0m, in \u001b[0;36mModel.train\u001b[0;34m(self, df, df_valid)\u001b[0m\n\u001b[1;32m    101\u001b[0m optimizer \u001b[38;5;241m=\u001b[39m optim\u001b[38;5;241m.\u001b[39mAdamW(model\u001b[38;5;241m.\u001b[39mparameters(), lr\u001b[38;5;241m=\u001b[39m\u001b[38;5;241m1e-2\u001b[39m, weight_decay\u001b[38;5;241m=\u001b[39m\u001b[38;5;241m1e-4\u001b[39m)\n\u001b[1;32m    102\u001b[0m scheduler \u001b[38;5;241m=\u001b[39m torch\u001b[38;5;241m.\u001b[39moptim\u001b[38;5;241m.\u001b[39mlr_scheduler\u001b[38;5;241m.\u001b[39mCosineAnnealingLR(optimizer, T_max\u001b[38;5;241m=\u001b[39m\u001b[38;5;241m50\u001b[39m)\n\u001b[0;32m--> 104\u001b[0m dataset \u001b[38;5;241m=\u001b[39m \u001b[43mCustomTabularDataset\u001b[49m\u001b[43m(\u001b[49m\u001b[43mdf\u001b[49m\u001b[43m)\u001b[49m\n\u001b[1;32m    105\u001b[0m dataset_valid \u001b[38;5;241m=\u001b[39m CustomTabularDataset(df_valid)\n\u001b[1;32m    107\u001b[0m da_valid, da_test \u001b[38;5;241m=\u001b[39m random_split(dataset_valid, [\u001b[38;5;241m0.7\u001b[39m, \u001b[38;5;241m0.3\u001b[39m], torch\u001b[38;5;241m.\u001b[39mGenerator()\u001b[38;5;241m.\u001b[39mmanual_seed(\u001b[38;5;241m100\u001b[39m))\n",
      "File \u001b[0;32m~/Desktop/tradingexperimentation/return-predictor/modules/model_module.py:44\u001b[0m, in \u001b[0;36mCustomTabularDataset.__init__\u001b[0;34m(self, dataframe, target_columns, return_targets)\u001b[0m\n\u001b[1;32m     41\u001b[0m drop_cols \u001b[38;5;241m=\u001b[39m [col \u001b[38;5;28;01mfor\u001b[39;00m col \u001b[38;5;129;01min\u001b[39;00m target_columns_and_index \u001b[38;5;28;01mif\u001b[39;00m col \u001b[38;5;129;01min\u001b[39;00m dataframe\u001b[38;5;241m.\u001b[39mcolumns]\n\u001b[1;32m     43\u001b[0m \u001b[38;5;28mself\u001b[39m\u001b[38;5;241m.\u001b[39mdataframe \u001b[38;5;241m=\u001b[39m dataframe\n\u001b[0;32m---> 44\u001b[0m \u001b[38;5;28mself\u001b[39m\u001b[38;5;241m.\u001b[39mfeatures \u001b[38;5;241m=\u001b[39m \u001b[43mtorch\u001b[49m\u001b[38;5;241;43m.\u001b[39;49m\u001b[43mtensor\u001b[49m\u001b[43m(\u001b[49m\u001b[43mdataframe\u001b[49m\u001b[38;5;241;43m.\u001b[39;49m\u001b[43mdrop\u001b[49m\u001b[43m(\u001b[49m\u001b[43mcolumns\u001b[49m\u001b[38;5;241;43m=\u001b[39;49m\u001b[43mdrop_cols\u001b[49m\u001b[43m)\u001b[49m\u001b[38;5;241;43m.\u001b[39;49m\u001b[43mvalues\u001b[49m\u001b[43m,\u001b[49m\u001b[43m \u001b[49m\u001b[43mdtype\u001b[49m\u001b[38;5;241;43m=\u001b[39;49m\u001b[43mtorch\u001b[49m\u001b[38;5;241;43m.\u001b[39;49m\u001b[43mfloat32\u001b[49m\u001b[43m)\u001b[49m\n\u001b[1;32m     46\u001b[0m \u001b[38;5;28;01mif\u001b[39;00m \u001b[38;5;28mself\u001b[39m\u001b[38;5;241m.\u001b[39mreturn_targets:\n\u001b[1;32m     47\u001b[0m     \u001b[38;5;28mself\u001b[39m\u001b[38;5;241m.\u001b[39mtargets \u001b[38;5;241m=\u001b[39m torch\u001b[38;5;241m.\u001b[39mtensor(dataframe[target_columns]\u001b[38;5;241m.\u001b[39mvalues, dtype\u001b[38;5;241m=\u001b[39mtorch\u001b[38;5;241m.\u001b[39mfloat32)\n",
      "\u001b[0;31mTypeError\u001b[0m: can't convert np.ndarray of type numpy.object_. The only supported types are: float64, float32, float16, complex64, complex128, int64, int32, int16, int8, uint64, uint32, uint16, uint8, and bool."
     ]
    }
   ],
   "source": [
    "from modules.pipeline_module import Pipeline\n",
    "pipeline = Pipeline(\"2025-07-14\", \"2025-07-18\")\n",
    "pipeline.execute()"
   ]
  },
  {
   "cell_type": "markdown",
   "id": "f3fe94d8",
   "metadata": {},
   "source": [
    "Debugging [if needed for this intermediary stage]"
   ]
  },
  {
   "cell_type": "code",
   "execution_count": null,
   "id": "c8308e3b",
   "metadata": {},
   "outputs": [],
   "source": [
    "# DEBUG: read norm_vars\n",
    "import pickle\n",
    "with open(\"cache/norm_vars.pkl\", \"rb\") as f:\n",
    "    print(pickle.load(f))"
   ]
  },
  {
   "cell_type": "markdown",
   "id": "52661ad5",
   "metadata": {},
   "source": [
    "Prediction"
   ]
  },
  {
   "cell_type": "code",
   "execution_count": null,
   "id": "1d698035",
   "metadata": {},
   "outputs": [],
   "source": [
    "from modules.prediction_module import Prediction\n",
    "prediction_helper = Prediction()\n",
    "prediction_helper.predict(date=\"2025-06-27\")"
   ]
  }
 ],
 "metadata": {
  "kernelspec": {
   "display_name": "Python 3",
   "language": "python",
   "name": "python3"
  },
  "language_info": {
   "codemirror_mode": {
    "name": "ipython",
    "version": 3
   },
   "file_extension": ".py",
   "mimetype": "text/x-python",
   "name": "python",
   "nbconvert_exporter": "python",
   "pygments_lexer": "ipython3",
   "version": "3.13.5"
  }
 },
 "nbformat": 4,
 "nbformat_minor": 5
}
